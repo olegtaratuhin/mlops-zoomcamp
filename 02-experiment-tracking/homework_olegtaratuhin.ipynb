{
 "cells": [
  {
   "cell_type": "markdown",
   "metadata": {},
   "source": [
    "# Homework 2\n",
    "\n",
    "The goal of this homework is to get familiar with MLflow."
   ]
  },
  {
   "cell_type": "code",
   "execution_count": 1,
   "metadata": {},
   "outputs": [
    {
     "name": "stdout",
     "output_type": "stream",
     "text": [
      "Python 3.10.4\n"
     ]
    }
   ],
   "source": [
    "!python --version"
   ]
  },
  {
   "cell_type": "markdown",
   "metadata": {},
   "source": [
    "## Q1. Install MLFlow\n",
    "\n",
    "To get started with MLflow you'll need to install the MLflow Python package.\n",
    "\n",
    "For this we recommend creating a separate Python environment, for example, you can use [conda environments](https://docs.conda.io/projects/conda/en/latest/user-guide/getting-started.html#managing-envs), and then install the package there with `pip` or `conda`.\n",
    "\n",
    "Once you installed the package, run the command `mlflow --version` and check the output.\n",
    "\n",
    "What's the version that you have?"
   ]
  },
  {
   "cell_type": "code",
   "execution_count": 1,
   "metadata": {},
   "outputs": [],
   "source": [
    "import os\n",
    "import shutil\n",
    "import pathlib\n",
    "import warnings\n",
    "warnings.filterwarnings(\"ignore\")"
   ]
  },
  {
   "cell_type": "code",
   "execution_count": 2,
   "metadata": {},
   "outputs": [
    {
     "name": "stdout",
     "output_type": "stream",
     "text": [
      "1.26.0\n"
     ]
    }
   ],
   "source": [
    "try:\n",
    "    import mlflow\n",
    "except:\n",
    "    %pip install --user mlflow\n",
    "    import mlflow\n",
    "print(mlflow.__version__)"
   ]
  },
  {
   "cell_type": "markdown",
   "metadata": {},
   "source": [
    "Setup mlflow experiment"
   ]
  },
  {
   "cell_type": "code",
   "execution_count": 3,
   "metadata": {},
   "outputs": [
    {
     "name": "stderr",
     "output_type": "stream",
     "text": [
      "2022/05/26 13:22:30 INFO mlflow.store.db.utils: Creating initial MLflow database tables...\n",
      "2022/05/26 13:22:30 INFO mlflow.store.db.utils: Updating database tables\n",
      "INFO  [alembic.runtime.migration] Context impl SQLiteImpl.\n",
      "INFO  [alembic.runtime.migration] Will assume non-transactional DDL.\n",
      "INFO  [alembic.runtime.migration] Running upgrade  -> 451aebb31d03, add metric step\n",
      "INFO  [alembic.runtime.migration] Running upgrade 451aebb31d03 -> 90e64c465722, migrate user column to tags\n",
      "INFO  [alembic.runtime.migration] Running upgrade 90e64c465722 -> 181f10493468, allow nulls for metric values\n",
      "INFO  [alembic.runtime.migration] Running upgrade 181f10493468 -> df50e92ffc5e, Add Experiment Tags Table\n",
      "INFO  [alembic.runtime.migration] Running upgrade df50e92ffc5e -> 7ac759974ad8, Update run tags with larger limit\n",
      "INFO  [alembic.runtime.migration] Running upgrade 7ac759974ad8 -> 89d4b8295536, create latest metrics table\n",
      "INFO  [89d4b8295536_create_latest_metrics_table_py] Migration complete!\n",
      "INFO  [alembic.runtime.migration] Running upgrade 89d4b8295536 -> 2b4d017a5e9b, add model registry tables to db\n",
      "INFO  [2b4d017a5e9b_add_model_registry_tables_to_db_py] Adding registered_models and model_versions tables to database.\n",
      "INFO  [2b4d017a5e9b_add_model_registry_tables_to_db_py] Migration complete!\n",
      "INFO  [alembic.runtime.migration] Running upgrade 2b4d017a5e9b -> cfd24bdc0731, Update run status constraint with killed\n",
      "INFO  [alembic.runtime.migration] Running upgrade cfd24bdc0731 -> 0a8213491aaa, drop_duplicate_killed_constraint\n",
      "INFO  [alembic.runtime.migration] Running upgrade 0a8213491aaa -> 728d730b5ebd, add registered model tags table\n",
      "INFO  [alembic.runtime.migration] Running upgrade 728d730b5ebd -> 27a6a02d2cf1, add model version tags table\n",
      "INFO  [alembic.runtime.migration] Running upgrade 27a6a02d2cf1 -> 84291f40a231, add run_link to model_version\n",
      "INFO  [alembic.runtime.migration] Running upgrade 84291f40a231 -> a8c4a736bde6, allow nulls for run_id\n",
      "INFO  [alembic.runtime.migration] Running upgrade a8c4a736bde6 -> 39d1c3be5f05, add_is_nan_constraint_for_metrics_tables_if_necessary\n",
      "INFO  [alembic.runtime.migration] Running upgrade 39d1c3be5f05 -> c48cb773bb87, reset_default_value_for_is_nan_in_metrics_table_for_mysql\n",
      "INFO  [alembic.runtime.migration] Running upgrade c48cb773bb87 -> bd07f7e963c5, create index on run_uuid\n",
      "INFO  [alembic.runtime.migration] Context impl SQLiteImpl.\n",
      "INFO  [alembic.runtime.migration] Will assume non-transactional DDL.\n"
     ]
    },
    {
     "name": "stdout",
     "output_type": "stream",
     "text": [
      "Created experiment_id = '1'\n"
     ]
    }
   ],
   "source": [
    "mlflow_root_dir = pathlib.Path(f\"{os.getcwd()}/.mlflow/\")\n",
    "mlflow_tracking_path = f\"sqlite:///{mlflow_root_dir / 'db.sqlite'}\"\n",
    "mlflow_artifact_path = mlflow_root_dir / \"artifacts/\"\n",
    "mlflow_experiment_name = \"homework-02\"\n",
    "\n",
    "try:\n",
    "    shutil.rmtree(mlflow_root_dir)\n",
    "except:\n",
    "    pass\n",
    "pathlib.Path(mlflow_root_dir).mkdir(parents=True, exist_ok=True)\n",
    "os.environ[\"MLFLOW_TRACKING_URI\"] = mlflow_tracking_path\n",
    "\n",
    "mlflow_client = mlflow.tracking.MlflowClient(\n",
    "    tracking_uri=mlflow_tracking_path,\n",
    ")\n",
    "experiment_id = mlflow_client.create_experiment(\n",
    "    name=mlflow_experiment_name,\n",
    "    artifact_location=str(mlflow_artifact_path),\n",
    ")\n",
    "print(f\"Created {experiment_id = }\")"
   ]
  },
  {
   "cell_type": "markdown",
   "metadata": {},
   "source": [
    "## Q2. Download and preprocess the data\n",
    "\n",
    "We'll use the same dataset used in the videos of the 1st and 2nd module: \"Green Taxi Trip Records\".\n",
    "\n",
    "Download the data for January, February and March 2021 in parquet format from [here](https://www1.nyc.gov/site/tlc/about/tlc-trip-record-data.page).\n",
    "\n",
    "Use the script `preprocess_data.py` located in the folder `homework` to preprocess the data.\n",
    "\n",
    "The script will\n",
    "\n",
    "- load the data from the folder `<TAXI_DATA_FOLDER>` (the folder where you have downloaded the data),\n",
    "- fit a `DictVectorizer` on the training set (January 2021 data),\n",
    "- save the preprocessed datasets and the model to disk\n",
    "\n",
    "Your task is to download the datasets and then execute this command:\n",
    "\n",
    "```\n",
    "python preprocess_data.py --raw_data_path <TAXI_DATA_FOLDER> --dest_path ./output\n",
    "```\n",
    "\n",
    "Tip: go to `02-experiment-tracking/homework/` folder before executing the command and change the value of `<TAXI_DATA_FOLDER>` to the location where you saved the data.\n",
    "\n",
    "How many files were saved to `OUTPUT_FOLDER`?\n",
    "\n",
    "* 1\n",
    "* 3\n",
    "* 4\n",
    "* 7\n"
   ]
  },
  {
   "cell_type": "markdown",
   "metadata": {},
   "source": [
    "Jupyter kernel is already launched in `02-experiment-tracking/` dir:"
   ]
  },
  {
   "cell_type": "code",
   "execution_count": 4,
   "metadata": {},
   "outputs": [
    {
     "name": "stdout",
     "output_type": "stream",
     "text": [
      "README.md                    meta.json\n",
      "duration-prediction.ipynb    \u001b[1m\u001b[36mmlruns\u001b[m\u001b[m\n",
      "\u001b[1m\u001b[36mhomework\u001b[m\u001b[m                     model-registry.ipynb\n",
      "homework.md                  \u001b[1m\u001b[36moutput\u001b[m\u001b[m\n",
      "homework_olegtaratuhin.ipynb requirements.txt\n",
      "\u001b[1m\u001b[36mimages\u001b[m\u001b[m                       \u001b[1m\u001b[36mrunning-mlflow-examples\u001b[m\u001b[m\n"
     ]
    }
   ],
   "source": [
    "!ls"
   ]
  },
  {
   "cell_type": "code",
   "execution_count": 5,
   "metadata": {},
   "outputs": [
    {
     "name": "stdout",
     "output_type": "stream",
     "text": [
      "dv.pkl\n",
      "test.pkl\n",
      "train.pkl\n",
      "valid.pkl\n",
      "       4\n"
     ]
    }
   ],
   "source": [
    "%%bash\n",
    "    cd homework && \\\n",
    "    python preprocess_data.py --raw_data_path ../../data --dest_path ../output && \\\n",
    "    ls ../output && \\\n",
    "    ls -1q ../output/* | wc -l"
   ]
  },
  {
   "cell_type": "markdown",
   "metadata": {},
   "source": [
    "How many files where saved?"
   ]
  },
  {
   "cell_type": "markdown",
   "metadata": {},
   "source": [
    "## Q3. Train a model with autolog\n",
    "\n",
    "We will train a random forest regressor on the taxi dataset.\n",
    "\n",
    "We have prepared the training script `train.py` for this exercise, which can be also found in the folder `homework`. The script will load the datasets produced by the previous step, train the model on the training set and finally calculate the RMSE on the validation set.\n",
    "\n",
    "Your task is to modify the script to enable **autologging** with MLflow, execute the script and then launch the MLflow UI to check that the experiment run was properly tracked. \n",
    "\n",
    "> Tip 1: don't forget to wrap the training code with a `with mlflow.start_run():` statement as we showed in the videos.\n",
    "\n",
    "> Tip 2: don't modify the hyperparameters of the model to make sure that the training will finish quickly.\n",
    "\n",
    "How many parameters are automatically logged by MLflow?\n",
    "\n",
    "* 19\n",
    "* 17\n",
    "* 10\n",
    "* 20\n"
   ]
  },
  {
   "cell_type": "markdown",
   "metadata": {},
   "source": [
    "Modify preprocessing file to enable autologging:"
   ]
  },
  {
   "cell_type": "code",
   "execution_count": 6,
   "metadata": {},
   "outputs": [
    {
     "name": "stdout",
     "output_type": "stream",
     "text": [
      "1a2\n",
      "> import functools\n",
      "3a5\n",
      "> from typing import Any, Callable\n",
      "6a9\n",
      "> import mlflow\n",
      "13a17,28\n",
      "> def mlflow_autolog(func: Callable[..., Any]) -> Callable[..., Any]:\n",
      ">     @functools.wraps(func)\n",
      ">     def inner(*args, **kwargs) -> Any:\n",
      ">         mlflow.set_tracking_uri(os.getenv(\"MLFLOW_TRACKING_URI\"))\n",
      ">         mlflow.set_experiment(\"homework-02\")\n",
      ">         mlflow.set_tag(\"dev\", \"olegtaratuhin\")\n",
      ">         mlflow.autolog()\n",
      ">         return func(*args, **kwargs)\n",
      ">     return inner\n",
      "> \n",
      "> \n",
      "> @mlflow_autolog\n"
     ]
    }
   ],
   "source": [
    "!cd homework && diff train.py train_mlflow.py"
   ]
  },
  {
   "cell_type": "code",
   "execution_count": 7,
   "metadata": {},
   "outputs": [
    {
     "name": "stdout",
     "output_type": "stream",
     "text": [
      "2022/05/26 13:22:52 INFO mlflow.tracking.fluent: Autologging successfully enabled for sklearn.\n",
      "2022/05/26 13:23:03 WARNING mlflow.utils.autologging_utils: MLflow autologging encountered a warning: \"/Users/oleg.taratukhin/miniforge3/envs/mlops/lib/python3.10/site-packages/_distutils_hack/__init__.py:30: UserWarning: Setuptools is replacing distutils.\"\n"
     ]
    }
   ],
   "source": [
    "!cd homework && python train_mlflow.py --data_path ../output"
   ]
  },
  {
   "cell_type": "code",
   "execution_count": 22,
   "metadata": {},
   "outputs": [
    {
     "name": "stdout",
     "output_type": "stream",
     "text": [
      "Autologging produced 17 parameters\n"
     ]
    }
   ],
   "source": [
    "experiment = mlflow_client.get_experiment_by_name(mlflow_experiment_name)\n",
    "runs = mlflow_client.search_runs(experiment_id, order_by=[\"attribute.start_time DESC\"])\n",
    "latest_run = runs[0]\n",
    "print(f\"Autologging produced {len(latest_run.data.params)} parameters\")"
   ]
  },
  {
   "cell_type": "markdown",
   "metadata": {},
   "source": [
    "## Q4. Launch the tracking server locally\n",
    "\n",
    "We want to manage the entire lifecycle of our ML model. In this step, you'll need to launch a tracking server. This way we will also have access to the model registry.\n",
    "\n",
    "Your task is to\n",
    "\n",
    "* launch the tracking server on your local machine\n",
    "* select a SQLite db for the backend store and a folder called `artifacts` for the artifacts store\n",
    "\n",
    "You should keep the tracking server running to work on the next two exercises that use the server.\n",
    "\n",
    "In addition to `backend-store-uri`, what else do you need to pass to properly configure the server?\n",
    "\n",
    "* `default-artifact-root`\n",
    "* `serve-artifacts`\n",
    "* `artifacts-only`\n",
    "* `artifacts-destination`"
   ]
  },
  {
   "cell_type": "code",
   "execution_count": null,
   "metadata": {},
   "outputs": [],
   "source": [
    "!mlflow server --backend-store-uri sqlite:///db.sqlite --default-artifact-root ./runs/ &"
   ]
  },
  {
   "cell_type": "markdown",
   "metadata": {},
   "source": [
    "## Q5. Tune the hyperparameters of the model\n",
    "\n",
    "Now let's try to reduce the validation error by tuning the hyperparameters of the random forest regressor using `hyperopt`.\n",
    "\n",
    "We have prepared the script `hpo.py` for this exercise. \n",
    "\n",
    "Your task is to modify the script `hpo.py` and make sure that the validation RMSE is logged to MLflow for each run of the hyperparameter optimization (you will need to add a few lines of code to the `objective` function) and run the script without passing any parameters.\n",
    "\n",
    "After that, open the MLflow UI and explore the runs from the experiment called `random-forest-hyperopt` to answer the question below.\n",
    "\n",
    "Important: don't use autologging for this exercise.\n",
    "\n",
    "The idea is to just log the information that you need to answer the question below, including:\n",
    "\n",
    "* the list of hyperparameters that are passed to the `objective` function during the optimization.\n",
    "* the RMSE obtained on the validation set (February 2021 data).\n",
    "\n",
    "What's the best validation RMSE that you got?\n",
    "\n",
    "* 6.128\n",
    "* 6.628\n",
    "* 7.128\n",
    "* 7.628"
   ]
  },
  {
   "cell_type": "code",
   "execution_count": 23,
   "metadata": {},
   "outputs": [
    {
     "name": "stdout",
     "output_type": "stream",
     "text": [
      "22,24c22,25\n",
      "< \n",
      "<     X_train, y_train = load_pickle(os.path.join(data_path, \"train.pkl\"))\n",
      "<     X_valid, y_valid = load_pickle(os.path.join(data_path, \"valid.pkl\"))\n",
      "---\n",
      ">     train_data_path = os.path.join(data_path, \"train.pkl\")\n",
      ">     valid_data_path = os.path.join(data_path, \"valid.pkl\")\n",
      ">     X_train, y_train = load_pickle(train_data_path)\n",
      ">     X_valid, y_valid = load_pickle(valid_data_path)\n",
      "27,31c28,39\n",
      "< \n",
      "<         rf = RandomForestRegressor(**params)\n",
      "<         rf.fit(X_train, y_train)\n",
      "<         y_pred = rf.predict(X_valid)\n",
      "<         rmse = mean_squared_error(y_valid, y_pred, squared=False)\n",
      "---\n",
      ">         with mlflow.start_run():\n",
      ">             mlflow.log_param(\"train_data_path\", train_data_path)\n",
      ">             mlflow.log_param(\"valid_data_path\", valid_data_path)\n",
      ">             mlflow.set_tag(\"dev\", \"olegtaratukhin\")\n",
      "> \n",
      ">             mlflow.log_params(params)\n",
      ">             rf = RandomForestRegressor(**params)\n",
      ">     \n",
      ">             rf.fit(X_train, y_train)\n",
      ">             y_pred = rf.predict(X_valid)\n",
      ">             rmse = mean_squared_error(y_valid, y_pred, squared=False)\n",
      ">             mlflow.log_metric(\"rmse\", rmse)\n"
     ]
    }
   ],
   "source": [
    "!cd homework && diff hpo.py hpo_mlflow.py"
   ]
  },
  {
   "cell_type": "code",
   "execution_count": 25,
   "metadata": {},
   "outputs": [
    {
     "name": "stdout",
     "output_type": "stream",
     "text": [
      "100%|█████████| 50/50 [03:03<00:00,  3.66s/trial, best loss: 6.6284257482044735]\n"
     ]
    }
   ],
   "source": [
    "!python homework/hpo_mlflow.py --data_path output"
   ]
  },
  {
   "cell_type": "code",
   "execution_count": 32,
   "metadata": {},
   "outputs": [
    {
     "name": "stdout",
     "output_type": "stream",
     "text": [
      "Best metric value: 6.6284257482044735\n"
     ]
    }
   ],
   "source": [
    "rf_opt_experiment = mlflow_client.get_experiment_by_name(\"random-forest-hyperopt\")\n",
    "rf_opt_experiment_runs = mlflow_client.search_runs(\n",
    "    experiment_ids=rf_opt_experiment.experiment_id,\n",
    "    order_by=[\"metrics.rmse ASC\"],\n",
    ")\n",
    "rf_opt_experiment_best_metrics = rf_opt_experiment_runs[0].data.metrics\n",
    "print(f\"Best metric value: {rf_opt_experiment_best_metrics['rmse']}\")"
   ]
  },
  {
   "cell_type": "code",
   "execution_count": 47,
   "metadata": {},
   "outputs": [
    {
     "data": {
      "text/plain": [
       "'2790d3c34c584928bfce46d43d484184'"
      ]
     },
     "execution_count": 47,
     "metadata": {},
     "output_type": "execute_result"
    }
   ],
   "source": [
    "rf_opt_experiment_runs[0].info.run_id"
   ]
  },
  {
   "cell_type": "markdown",
   "metadata": {},
   "source": [
    "## Q6. Promote the best model to the model registry\n",
    "\n",
    "The results from the hyperparameter optimization are quite good so we can assume that we are ready to test some of these models in production. In this exercise, you'll promote the best model to the model registry. We have prepared a script called `register_model.py`, which will check the results from the previous step and select the top 5 runs. After that, it will calculate the RMSE of those models on the test set (March 2021 data) and save the results to a new experiment called `random-forest-best-models`.\n",
    "\n",
    "Your task is to update the script `register_model.py` so that it selects the model with the lowest RMSE on the test set and registers it to the model registry.\n",
    "\n",
    "> Tip 1: you can use the method `search_runs` from the `MlflowClient` to get the model with the lowest RMSE.\n",
    "\n",
    "> Tip 2: to register the model you can use the method `mlflow.register_model` and you will need to pass the right model_uri in the form of a string that looks like this: `\"runs:/<RUN_ID>/model\"`, and the name of the model (make sure to choose a good one!).\n",
    "\n",
    "What is the test RMSE of the best model?\n",
    "\n",
    "* 6.1\n",
    "* 6.55\n",
    "* 7.93\n",
    "* 15.1"
   ]
  },
  {
   "cell_type": "code",
   "execution_count": 62,
   "metadata": {},
   "outputs": [
    {
     "name": "stdout",
     "output_type": "stream",
     "text": [
      "68c68,71\n",
      "<     # best_run = client.search_runs( ...  )[0]\n",
      "---\n",
      ">     best_run = client.search_runs(\n",
      ">         experiment_ids=experiment.experiment_id,\n",
      ">         order_by=[\"metrics.rmse ASC\"]\n",
      ">     )[0]\n",
      "71c74,77\n",
      "<     # mlflow.register_model( ... )\n",
      "---\n",
      ">     mlflow.register_model(\n",
      ">         model_uri=f\"runs:/{best_run.info.run_id}/model\",\n",
      ">         name=\"random-forrest-model\",\n",
      ">     )\n",
      "84a91\n",
      ">         type=int,\n"
     ]
    }
   ],
   "source": [
    "!cd homework && diff register_model.py register_model_final.py"
   ]
  },
  {
   "cell_type": "code",
   "execution_count": 65,
   "metadata": {},
   "outputs": [
    {
     "name": "stdout",
     "output_type": "stream",
     "text": [
      "2022/05/26 17:26:30 WARNING mlflow.utils.autologging_utils: MLflow autologging encountered a warning: \"/Users/oleg.taratukhin/miniforge3/envs/mlops/lib/python3.10/site-packages/_distutils_hack/__init__.py:30: UserWarning: Setuptools is replacing distutils.\"\n",
      "Successfully registered model 'random-forrest-model'.\n",
      "2022/05/26 17:27:03 INFO mlflow.tracking._model_registry.client: Waiting up to 300 seconds for model version to finish creation.                     Model name: random-forrest-model, version 1\n",
      "Created version '1' of model 'random-forrest-model'.\n"
     ]
    }
   ],
   "source": [
    "!python homework/register_model_final.py --data_path output --top_n 5"
   ]
  },
  {
   "cell_type": "code",
   "execution_count": 68,
   "metadata": {},
   "outputs": [
    {
     "name": "stdout",
     "output_type": "stream",
     "text": [
      "Best metric value: 6.547886185595423\n"
     ]
    }
   ],
   "source": [
    "rf_opt_experiment = mlflow_client.get_experiment_by_name(\"random-forest-best-models\")\n",
    "rf_opt_experiment_runs = mlflow_client.search_runs(\n",
    "    experiment_ids=rf_opt_experiment.experiment_id,\n",
    "    order_by=[\"metrics.test_rmse ASC\"],\n",
    ")\n",
    "rf_opt_experiment_best_metrics = rf_opt_experiment_runs[0].data.metrics\n",
    "print(f\"Best metric value: {rf_opt_experiment_best_metrics['test_rmse']}\")"
   ]
  }
 ],
 "metadata": {
  "interpreter": {
   "hash": "f8ec9a6f6dd64124b630e7404b24e13e455dcdcddef5b9b5adf6def4dc63e107"
  },
  "kernelspec": {
   "display_name": "Python 3.10.4 ('mlops')",
   "language": "python",
   "name": "python3"
  },
  "language_info": {
   "codemirror_mode": {
    "name": "ipython",
    "version": 3
   },
   "file_extension": ".py",
   "mimetype": "text/x-python",
   "name": "python",
   "nbconvert_exporter": "python",
   "pygments_lexer": "ipython3",
   "version": "3.10.4"
  },
  "orig_nbformat": 4
 },
 "nbformat": 4,
 "nbformat_minor": 2
}
